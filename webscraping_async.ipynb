{
 "cells": [
  {
   "cell_type": "code",
   "execution_count": 9,
   "id": "bc9d88e3",
   "metadata": {},
   "outputs": [
    {
     "data": {
      "application/vnd.microsoft.datawrangler.viewer.v0+json": {
       "columns": [
        {
         "name": "index",
         "rawType": "int64",
         "type": "integer"
        },
        {
         "name": "thumbnail",
         "rawType": "object",
         "type": "string"
        },
        {
         "name": "title",
         "rawType": "object",
         "type": "string"
        },
        {
         "name": "text",
         "rawType": "object",
         "type": "string"
        },
        {
         "name": "price",
         "rawType": "object",
         "type": "string"
        }
       ],
       "conversionMethod": "pd.DataFrame",
       "ref": "6e58d5d2-5118-4907-b7de-72d5a02e8fa3",
       "rows": [
        [
         "0",
         "https://web-scraping.dev/assets/products/orange-chocolate-box-medium-1.webp",
         "Box of Chocolate Candy",
         "Indulge your sweet tooth with our Box of Chocolate Candy. Each box contains an assortment of rich, flavorful chocolates with a smooth, creamy filling. Choose from a variety of flavors including zesty orange and sweet cherry. Whether you're looking for the perfect gift or just want to treat yourself, our Box of Chocolate Candy is sure to satisfy.",
         "24.99"
        ],
        [
         "1",
         "https://web-scraping.dev/assets/products/darkred-potion.webp",
         "Dark Red Energy Potion",
         "Unleash the power within with our 'Dark Red Potion', an energy drink as intense as the games you play. Its deep red color and bold cherry cola flavor are as inviting as they are invigorating. Bring out the best in your gaming performance, and unlock your full potential.",
         "4.99"
        ],
        [
         "2",
         "https://web-scraping.dev/assets/products/teal-potion.webp",
         "Teal Energy Potion",
         "Experience a surge of vitality with our 'Teal Potion', an exceptional energy drink designed for the gaming community. With its intriguing teal color and a flavor that keeps you asking for more, this potion is your best companion during those long gaming nights. Every sip is an adventure - let the quest begin!",
         "4.99"
        ],
        [
         "3",
         "https://web-scraping.dev/assets/products/red-potion.webp",
         "Red Energy Potion",
         "Elevate your game with our 'Red Potion', an extraordinary energy drink that's as enticing as it is effective. This fiery red potion delivers an explosive berry flavor and an energy kick that keeps you at the top of your game. Are you ready to level up?",
         "4.99"
        ],
        [
         "4",
         "https://web-scraping.dev/assets/products/blue-potion.webp",
         "Blue Energy Potion",
         "Ignite your gaming sessions with our 'Blue Energy Potion', a premium energy drink crafted for dedicated gamers. Inspired by the classic video game potions, this energy drink provides a much-needed boost to keep you focused and energized. It's more than just an energy drink - it's an ode to the gaming culture, packaged in an aesthetically pleasing potion-like bottle that'll make you feel like you're in your favorite game world. Drink up and game on!",
         "4.99"
        ]
       ],
       "shape": {
        "columns": 4,
        "rows": 5
       }
      },
      "text/html": [
       "<div>\n",
       "<style scoped>\n",
       "    .dataframe tbody tr th:only-of-type {\n",
       "        vertical-align: middle;\n",
       "    }\n",
       "\n",
       "    .dataframe tbody tr th {\n",
       "        vertical-align: top;\n",
       "    }\n",
       "\n",
       "    .dataframe thead th {\n",
       "        text-align: right;\n",
       "    }\n",
       "</style>\n",
       "<table border=\"1\" class=\"dataframe\">\n",
       "  <thead>\n",
       "    <tr style=\"text-align: right;\">\n",
       "      <th></th>\n",
       "      <th>thumbnail</th>\n",
       "      <th>title</th>\n",
       "      <th>text</th>\n",
       "      <th>price</th>\n",
       "    </tr>\n",
       "  </thead>\n",
       "  <tbody>\n",
       "    <tr>\n",
       "      <th>0</th>\n",
       "      <td>https://web-scraping.dev/assets/products/orang...</td>\n",
       "      <td>Box of Chocolate Candy</td>\n",
       "      <td>Indulge your sweet tooth with our Box of Choco...</td>\n",
       "      <td>24.99</td>\n",
       "    </tr>\n",
       "    <tr>\n",
       "      <th>1</th>\n",
       "      <td>https://web-scraping.dev/assets/products/darkr...</td>\n",
       "      <td>Dark Red Energy Potion</td>\n",
       "      <td>Unleash the power within with our 'Dark Red Po...</td>\n",
       "      <td>4.99</td>\n",
       "    </tr>\n",
       "    <tr>\n",
       "      <th>2</th>\n",
       "      <td>https://web-scraping.dev/assets/products/teal-...</td>\n",
       "      <td>Teal Energy Potion</td>\n",
       "      <td>Experience a surge of vitality with our 'Teal ...</td>\n",
       "      <td>4.99</td>\n",
       "    </tr>\n",
       "    <tr>\n",
       "      <th>3</th>\n",
       "      <td>https://web-scraping.dev/assets/products/red-p...</td>\n",
       "      <td>Red Energy Potion</td>\n",
       "      <td>Elevate your game with our 'Red Potion', an ex...</td>\n",
       "      <td>4.99</td>\n",
       "    </tr>\n",
       "    <tr>\n",
       "      <th>4</th>\n",
       "      <td>https://web-scraping.dev/assets/products/blue-...</td>\n",
       "      <td>Blue Energy Potion</td>\n",
       "      <td>Ignite your gaming sessions with our 'Blue Ene...</td>\n",
       "      <td>4.99</td>\n",
       "    </tr>\n",
       "  </tbody>\n",
       "</table>\n",
       "</div>"
      ],
      "text/plain": [
       "                                           thumbnail                   title  \\\n",
       "0  https://web-scraping.dev/assets/products/orang...  Box of Chocolate Candy   \n",
       "1  https://web-scraping.dev/assets/products/darkr...  Dark Red Energy Potion   \n",
       "2  https://web-scraping.dev/assets/products/teal-...      Teal Energy Potion   \n",
       "3  https://web-scraping.dev/assets/products/red-p...       Red Energy Potion   \n",
       "4  https://web-scraping.dev/assets/products/blue-...      Blue Energy Potion   \n",
       "\n",
       "                                                text  price  \n",
       "0  Indulge your sweet tooth with our Box of Choco...  24.99  \n",
       "1  Unleash the power within with our 'Dark Red Po...   4.99  \n",
       "2  Experience a surge of vitality with our 'Teal ...   4.99  \n",
       "3  Elevate your game with our 'Red Potion', an ex...   4.99  \n",
       "4  Ignite your gaming sessions with our 'Blue Ene...   4.99  "
      ]
     },
     "execution_count": 9,
     "metadata": {},
     "output_type": "execute_result"
    }
   ],
   "source": [
    "import nest_asyncio\n",
    "from playwright.async_api import async_playwright\n",
    "import pandas as pd\n",
    "\n",
    "nest_asyncio.apply()\n",
    "\n",
    "async def scrape_all_products_async():\n",
    "    all_products = []\n",
    "\n",
    "    pw = await async_playwright().start()\n",
    "    browser = await pw.chromium.launch(headless=False)\n",
    "    page = await browser.new_page()\n",
    "\n",
    "    # All methods are async (use the \"await\" keyword)\n",
    "    await page.goto(\"https://web-scraping.dev/products\")\n",
    "\n",
    "    while True:\n",
    "        await page.wait_for_selector('.products')\n",
    "        cards = await page.query_selector_all('.product')\n",
    "\n",
    "        for card in cards:\n",
    "            # Thumbnail image\n",
    "            thumbnail = await card.query_selector('.thumbnail>img')\n",
    "\n",
    "            # Description title and text\n",
    "            title = await card.query_selector('.description>h3')\n",
    "            text = await card.query_selector('.description>.short-description')\n",
    "\n",
    "            # Price\n",
    "            price = await card.query_selector('.price-wrap>.price')\n",
    "            \n",
    "            all_products.append({\n",
    "                'thumbnail': await thumbnail.get_attribute('src') if thumbnail else '',\n",
    "                'title': await title.inner_text() if title else '',\n",
    "                'text': await text.inner_text() if text else '',\n",
    "                'price': await price.inner_text() if price else ''\n",
    "            })\n",
    "\n",
    "        next_page = await page.query_selector('.paging>a:last-child') # Next page is the last button\n",
    "        if(next_page and await next_page.get_attribute('href')): # Check if there is a link to the next page\n",
    "            await next_page.click()\n",
    "        else:\n",
    "            break\n",
    "\n",
    "    await browser.close()\n",
    "    await pw.stop()\n",
    "\n",
    "    return pd.DataFrame(all_products)\n",
    "\n",
    "# Run the async main function\n",
    "df = await scrape_all_products_async()  # Use await directly instead of asyncio.run()\n",
    "df.to_csv(\"products.csv\", index=False)\n",
    "df.head()"
   ]
  }
 ],
 "metadata": {
  "kernelspec": {
   "display_name": "venv",
   "language": "python",
   "name": "python3"
  },
  "language_info": {
   "codemirror_mode": {
    "name": "ipython",
    "version": 3
   },
   "file_extension": ".py",
   "mimetype": "text/x-python",
   "name": "python",
   "nbconvert_exporter": "python",
   "pygments_lexer": "ipython3",
   "version": "3.12.1"
  }
 },
 "nbformat": 4,
 "nbformat_minor": 5
}
